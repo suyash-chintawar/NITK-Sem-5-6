{
  "nbformat": 4,
  "nbformat_minor": 0,
  "metadata": {
    "colab": {
      "name": "Final Spam Filtering.ipynb",
      "provenance": []
    },
    "kernelspec": {
      "name": "python3",
      "display_name": "Python 3"
    },
    "language_info": {
      "name": "python"
    }
  },
  "cells": [
    {
      "cell_type": "markdown",
      "metadata": {
        "id": "hcFsZGFM_Rz8"
      },
      "source": [
        "## Application of Conditional Probability using Naive Bayes to implement a spam filter for emails.\n",
        "\n",
        "Name: Suyash Chintawar\n",
        "\n",
        "Roll No.: 191IT109\n",
        "\n",
        "Dataset used: https://www.kaggle.com/venky73/spam-mails-dataset"
      ]
    },
    {
      "cell_type": "code",
      "metadata": {
        "colab": {
          "base_uri": "https://localhost:8080/"
        },
        "id": "Vag8h1pWnrV7",
        "outputId": "122b9fda-7193-49ac-d4b3-ccd60fcb6621"
      },
      "source": [
        "#Mounting Drive if using colab\n",
        "from google.colab import drive\n",
        "drive.mount('/content/drive')"
      ],
      "execution_count": 3,
      "outputs": [
        {
          "output_type": "stream",
          "name": "stdout",
          "text": [
            "Drive already mounted at /content/drive; to attempt to forcibly remount, call drive.mount(\"/content/drive\", force_remount=True).\n"
          ]
        }
      ]
    },
    {
      "cell_type": "code",
      "metadata": {
        "colab": {
          "base_uri": "https://localhost:8080/"
        },
        "id": "qkTFc_rVnv7V",
        "outputId": "8fc3a6d3-94a8-4ade-c79b-672f4041155f"
      },
      "source": [
        "#Importing necessary packages\n",
        "import numpy as np\n",
        "import nltk\n",
        "import statistics\n",
        "import matplotlib.pyplot as plt\n",
        "import pandas as pd\n",
        "import seaborn as sns\n",
        "from nltk.corpus import stopwords\n",
        "from sklearn.metrics import confusion_matrix\n",
        "from collections import defaultdict\n",
        "pd.options.mode.chained_assignment = None\n",
        "%matplotlib inline\n",
        "plt.rcParams.update({'figure.figsize':(7,5), 'figure.dpi':100})\n",
        "\n",
        "nltk.download('stopwords')"
      ],
      "execution_count": 4,
      "outputs": [
        {
          "output_type": "stream",
          "name": "stdout",
          "text": [
            "[nltk_data] Downloading package stopwords to /root/nltk_data...\n",
            "[nltk_data]   Unzipping corpora/stopwords.zip.\n"
          ]
        },
        {
          "output_type": "execute_result",
          "data": {
            "text/plain": [
              "True"
            ]
          },
          "metadata": {},
          "execution_count": 4
        }
      ]
    },
    {
      "cell_type": "code",
      "metadata": {
        "id": "HT9T4c70n1iA"
      },
      "source": [
        "#Reading Original dataset into dataframe\n",
        "original_data = pd.read_csv(\"drive/MyDrive/Spam Filtering/spam_ham_dataset.csv\")"
      ],
      "execution_count": 5,
      "outputs": []
    },
    {
      "cell_type": "code",
      "metadata": {
        "id": "WaC7K5Ren37F"
      },
      "source": [
        "original_data['processed_text']=original_data['text']\n",
        "stop_words = set(stopwords.words('english'))\n",
        "\n",
        "#reomve stopwords using nltk.corpus.stopwords\n",
        "def remove_stopwords(df):\n",
        "    for i in range(len(df)):\n",
        "        df[\"processed_text\"][i] = df[\"processed_text\"][i].lower().split()\n",
        "        filtered_text = [w for w in df[\"processed_text\"][i] if not w.lower() in stop_words]\n",
        "        df[\"processed_text\"][i]=' '.join(filtered_text)\n",
        "    return df\n",
        "\n",
        "#remove special characters/numbers\n",
        "def preprocess(df):\n",
        "    df['processed_text']=df['processed_text'].str[9:]\n",
        "    df=remove_stopwords(df)\n",
        "    df['processed_text']=df['processed_text'].str.replace('[^a-z]+',' ').replace('  ',' ')"
      ],
      "execution_count": 6,
      "outputs": []
    },
    {
      "cell_type": "code",
      "metadata": {
        "id": "wXnQZ-T2n8uW"
      },
      "source": [
        "#Pre-processing of data\n",
        "preprocess(original_data)"
      ],
      "execution_count": 7,
      "outputs": []
    },
    {
      "cell_type": "code",
      "metadata": {
        "colab": {
          "base_uri": "https://localhost:8080/"
        },
        "id": "SMf7f1KAn-kK",
        "outputId": "7182b582-b7f3-489c-c9de-ee645a4a6073"
      },
      "source": [
        "#Splitting data into train and test sets keeping ratio of ham:spam similar\n",
        "#Train: 80%, Test: 20%\n",
        "train_data = original_data.sample(frac=0.8,random_state=1).reset_index(drop=True)\n",
        "test_data = original_data.drop(train_data.index).reset_index(drop=True)\n",
        "train_data = train_data.reset_index(drop=True)\n",
        "\n",
        "print('Original data:')\n",
        "print(original_data['label'].value_counts() / original_data.shape[0]*100,'\\n')\n",
        "\n",
        "print('Train data:')\n",
        "print(train_data['label'].value_counts() / train_data.shape[0]*100,'\\n')\n",
        "\n",
        "print('Test data:')\n",
        "print(test_data['label'].value_counts() / test_data.shape[0]*100)"
      ],
      "execution_count": 8,
      "outputs": [
        {
          "output_type": "stream",
          "name": "stdout",
          "text": [
            "Original data:\n",
            "ham     71.01141\n",
            "spam    28.98859\n",
            "Name: label, dtype: float64 \n",
            "\n",
            "Train data:\n",
            "ham     70.72758\n",
            "spam    29.27242\n",
            "Name: label, dtype: float64 \n",
            "\n",
            "Test data:\n",
            "ham     69.052224\n",
            "spam    30.947776\n",
            "Name: label, dtype: float64\n"
          ]
        }
      ]
    },
    {
      "cell_type": "code",
      "metadata": {
        "id": "oCrFHLb_oBFg"
      },
      "source": [
        "#No. of spam in train \n",
        "n_spam = train_data['label'].value_counts()['spam']\n",
        "\n",
        "#No. of ham in train\n",
        "n_ham = train_data['label'].value_counts()['ham']\n",
        "\n",
        "#Probability of spam in train\n",
        "p_spam = n_spam/len(train_data)\n",
        "\n",
        "#Probability of ham in train\n",
        "p_ham = n_ham/len(train_data)"
      ],
      "execution_count": 9,
      "outputs": []
    },
    {
      "cell_type": "code",
      "metadata": {
        "colab": {
          "base_uri": "https://localhost:8080/"
        },
        "id": "iLOb0sdIoC6U",
        "outputId": "cba3f211-4c58-4afa-efc7-7338722be768"
      },
      "source": [
        "#Default value to be returned in case of key error\n",
        "def default_value_spam():\n",
        "  return 1\n",
        "\n",
        "#Default value to be returned in case of key error\n",
        "def default_value_ham():\n",
        "  return 2\n",
        "\n",
        "#Initialize dictionaries to keep track of freq of words\n",
        "vocab_spam = defaultdict(default_value_spam)\n",
        "vocab_ham = defaultdict(default_value_ham)\n",
        "\n",
        "#Populate the above dictionaries\n",
        "for i in range(len(train_data)):\n",
        "  if train_data['label'][i]=='spam':\n",
        "    for word in train_data['processed_text'][i].split():\n",
        "      if word not in vocab_spam.keys():\n",
        "        vocab_spam[word]=1\n",
        "      else:\n",
        "        vocab_spam[word]+=1\n",
        "  else:\n",
        "    for word in train_data['processed_text'][i].split():\n",
        "      if word not in vocab_ham.keys():\n",
        "        vocab_ham[word]=1\n",
        "      else:\n",
        "        vocab_ham[word]+=1\n",
        "\n",
        "#Verifying that dictionaries has been populated\n",
        "print('Size of vocab_spam:',len(vocab_spam))\n",
        "print('Size of vocab_ham:',len(vocab_ham))"
      ],
      "execution_count": 10,
      "outputs": [
        {
          "output_type": "stream",
          "name": "stdout",
          "text": [
            "Size of vocab_spam: 32626\n",
            "Size of vocab_ham: 14752\n"
          ]
        }
      ]
    },
    {
      "cell_type": "code",
      "metadata": {
        "id": "y8Ku4aOWoF0C"
      },
      "source": [
        "#Probability of a word occuring in spam \n",
        "def p_w_s(word):\n",
        "  return 2*vocab_spam[word]/(n_spam) #Normalisization of uneven dataset\n",
        "\n",
        "#Probability of a word occuring in ham \n",
        "def p_w_h(word):\n",
        "  return vocab_ham[word]/(n_ham)\n",
        "\n",
        "#Probability of the text being spam for a given word\n",
        "def p_spam_w(word):\n",
        "  return (p_w_s(word)*p_spam) / ((p_w_s(word)*p_spam) + (p_w_h(word)*p_ham))\n"
      ],
      "execution_count": 11,
      "outputs": []
    },
    {
      "cell_type": "code",
      "metadata": {
        "id": "ynR-Q1WqoJ04"
      },
      "source": [
        "#Creating a new column for storing predicted labels (column will be overwritten)\n",
        "test_data['predicted_label_num']=test_data['label_num']"
      ],
      "execution_count": 12,
      "outputs": []
    },
    {
      "cell_type": "code",
      "metadata": {
        "id": "65v8xL6poMNm"
      },
      "source": [
        "#Classifying text as spam(1)/ham(0) based on threshold\n",
        "def classify(text,threshold):\n",
        "  spam_product = 1 #Product of individual probabilities of p_spam_w\n",
        "  ham_product = 1 #Product of individual probabilities of p_ham_w = 1 - p_spam_w\n",
        "  for word in text.split():\n",
        "    p_s_w = p_spam_w(word)\n",
        "    if p_s_w==0:\n",
        "      continue\n",
        "    if spam_product * p_s_w !=0:\n",
        "      spam_product *= p_s_w\n",
        "    else:\n",
        "      continue\n",
        "    ham_product *= (1 - p_s_w)\n",
        "  final_probability = spam_product/(spam_product+ham_product)\n",
        "  if final_probability >= threshold:\n",
        "    return 1\n",
        "  else:\n",
        "    return 0"
      ],
      "execution_count": 13,
      "outputs": []
    },
    {
      "cell_type": "code",
      "metadata": {
        "colab": {
          "base_uri": "https://localhost:8080/"
        },
        "id": "4mNzZMrvoOTP",
        "outputId": "1ff58ee6-3b9e-481e-c31a-67be73c8744b"
      },
      "source": [
        "#Values of thresholds\n",
        "thresholds = np.arange(0.05,1,0.05)\n",
        "\n",
        "#Initialize variables\n",
        "best_threshold =1\n",
        "best_accuracy =0\n",
        "\n",
        "#Initialize lists\n",
        "sensitivities = []\n",
        "specificities = []\n",
        "accuracies = []\n",
        "\n",
        "\n",
        "for threshold in thresholds:\n",
        "\n",
        "  #Predicting each email as spam/ham by classifying its text\n",
        "  for i in range(len(test_data)):\n",
        "    test_data['predicted_label_num'][i]=classify( test_data['processed_text'][i], threshold)\n",
        "\n",
        "  #Confusion matrix\n",
        "  cf_matrix = confusion_matrix(test_data['label_num'],test_data['predicted_label_num'])\n",
        "\n",
        "  tp = cf_matrix[1][1] # True positives\n",
        "  tn = cf_matrix[0][0] # True negatives\n",
        "  fp = cf_matrix[0][1] # False positives\n",
        "  fn = cf_matrix[1][0] # False negatives\n",
        "\n",
        "  accuracy = ( tp + tn ) / (tp + tn + fp + fn) \n",
        "  sensitivity = ( tp ) / ( tp + fn )  \n",
        "  specificity = ( tn ) / ( tn + fp ) \n",
        "\n",
        "  accuracies.append(accuracy)\n",
        "  sensitivities.append(sensitivity)\n",
        "  specificities.append(specificity)\n",
        "\n",
        "  #Update to find best threshold based on accuracy\n",
        "  if accuracy > best_accuracy:\n",
        "    best_accuracy = accuracy\n",
        "    best_threshold = threshold\n",
        "\n",
        "print('\\nBEST ACCURACY:',best_accuracy)\n",
        "print('BEST THRESHOLD:',best_threshold)"
      ],
      "execution_count": 14,
      "outputs": [
        {
          "output_type": "stream",
          "name": "stdout",
          "text": [
            "\n",
            "BEST ACCURACY: 0.9854932301740812\n",
            "BEST THRESHOLD: 0.5\n"
          ]
        }
      ]
    },
    {
      "cell_type": "code",
      "metadata": {
        "colab": {
          "base_uri": "https://localhost:8080/"
        },
        "id": "xEGbMT4YoRFx",
        "outputId": "aed1f11d-197c-4c6b-938b-bc581ac0d3d2"
      },
      "source": [
        "#For storing final predicted probabilities\n",
        "spam_probabilities = []\n",
        "\n",
        "#Classifying again on best threshold and populating spam_probabilities list\n",
        "def final_classify(text,threshold):\n",
        "  spam_product = 1\n",
        "  ham_product = 1\n",
        "  for word in text.split():\n",
        "    p_s_w = p_spam_w(word)\n",
        "    if p_s_w==0:\n",
        "      continue\n",
        "    if spam_product*p_s_w !=0:\n",
        "      spam_product *= p_s_w\n",
        "    else:\n",
        "      continue\n",
        "    ham_product *= (1-p_s_w)\n",
        "  final_probability = spam_product/(spam_product+ham_product)\n",
        "  if final_probability >= threshold:\n",
        "    spam_probabilities.append([final_probability,1])\n",
        "    return 1\n",
        "  else:\n",
        "    spam_probabilities.append([final_probability,0])\n",
        "    return 0\n",
        "\n",
        "#Predicting values on best threshold\n",
        "for i in range(len(test_data)):\n",
        "    test_data['predicted_label_num'][i]=final_classify(test_data['processed_text'][i], best_threshold)\n",
        "\n",
        "#Confusion matrix and accuracy\n",
        "cf_matrix = confusion_matrix(test_data['label_num'],test_data['predicted_label_num'])\n",
        "accuracy = ( cf_matrix[0][0] + cf_matrix[1][1] ) / ( cf_matrix[0][0] + cf_matrix[1][1] + cf_matrix[0][1] + cf_matrix[1][0] )  \n",
        "\n",
        "print('\\nFINAL ACCURACY:',accuracy*100,'\\n')"
      ],
      "execution_count": 15,
      "outputs": [
        {
          "output_type": "stream",
          "name": "stdout",
          "text": [
            "\n",
            "FINAL ACCURACY: 98.54932301740811 \n",
            "\n"
          ]
        }
      ]
    },
    {
      "cell_type": "markdown",
      "metadata": {
        "id": "d_FreTCEwjgl"
      },
      "source": [
        "**Q2. Visualize your classification as a graph depicting your chosen decision threshold (spam-ham) (on X-axis) vs % values of Specificity, Sensitivity and Accuracy (on Y-axis).**\n",
        "\n",
        "Observations: From the plot below, we can see that the sensitivity and the specificity curves bound the accuracy curve as threshold varies.The sensitivity decreases as threshold increases and the specificity increases slightly as threshold increases. The maximum accuracy is found near threshold 0.5. All of these three curves intersect at one point at nearly 0.6 threshold.\n"
      ]
    },
    {
      "cell_type": "code",
      "metadata": {
        "colab": {
          "base_uri": "https://localhost:8080/",
          "height": 480
        },
        "id": "w1mWDAYocm5N",
        "outputId": "e1b9da88-98cd-4d22-8b67-a4f5dd46af4f"
      },
      "source": [
        "#Plotting Accuracy,Sensitivity,Specificity on different thresholds\n",
        "plt.plot(thresholds,accuracies)\n",
        "plt.plot(thresholds,sensitivities)\n",
        "plt.plot(thresholds,specificities)\n",
        "plt.legend(['Accuracy','Sensitivity','Specificity'])\n",
        "plt.xlabel('Threshold')\n",
        "plt.ylabel('Percentage(scaled)')\n",
        "plt.grid(True)\n",
        "plt.title('Performace Metrics vs Threshold')\n",
        "plt.show()"
      ],
      "execution_count": 16,
      "outputs": [
        {
          "output_type": "display_data",
          "data": {
            "image/png": "[encoded data removed]",
            "text/plain": [
              "<Figure size 700x500 with 1 Axes>"
            ]
          },
          "metadata": {
            "needs_background": "light"
          }
        }
      ]
    },
    {
      "cell_type": "markdown",
      "metadata": {
        "id": "SCwh8ZVfwWAQ"
      },
      "source": [
        "**Q3. Plot the conclusion matrix and justify the reasoning behind these results.**\n",
        "\n",
        "Observations: We can see that 318 true positives and 701 true negatives have been successfully identified. This is a good sign as most of the data points have been classified correctly. This happens because we have normalised our data. In the original dataset the ratio of emails of ham:spam is almost 2:1, to handle the uneven dataset, the probability (p_w_s) has been multiplied by 2 to have a perception of almost equal amount of data. Also the default values in in the vocabulary have been initialized differently to maintain the ratio 2:1 in ham:spam."
      ]
    },
    {
      "cell_type": "code",
      "metadata": {
        "colab": {
          "base_uri": "https://localhost:8080/",
          "height": 443
        },
        "id": "mTT9NoaUc_Dk",
        "outputId": "db1d0ae4-3cd1-4045-cd6b-06946587b43c"
      },
      "source": [
        "#Confusion matrix heatmap\n",
        "ax = sns.heatmap(cf_matrix,annot=True,fmt=\"d\")"
      ],
      "execution_count": 17,
      "outputs": [
        {
          "output_type": "display_data",
          "data": {
            "image/png": "[encoded data removed]",
            "text/plain": [
              "<Figure size 700x500 with 2 Axes>"
            ]
          },
          "metadata": {
            "needs_background": "light"
          }
        }
      ]
    },
    {
      "cell_type": "markdown",
      "metadata": {
        "id": "D-vt-poQwJEx"
      },
      "source": [
        "**Q4. Apply the descriptive statistical techniques to the data and find out the centrality measures of the data, and compare (Visualize)  the centrality measures with the wrongly classified data.**\n",
        "\n"
      ]
    },
    {
      "cell_type": "code",
      "metadata": {
        "id": "qhqhzqLmknbU"
      },
      "source": [
        "#Splitting spam_probabilities in correctly/wrongly classified\n",
        "correctly_classified = []\n",
        "wrongly_classified = []\n",
        "\n",
        "for i in range(len(spam_probabilities)):\n",
        "  if spam_probabilities[i][1] == test_data['label_num'][i]:\n",
        "    correctly_classified.append(spam_probabilities[i][0])\n",
        "  else:\n",
        "    wrongly_classified.append(spam_probabilities[i][0])"
      ],
      "execution_count": 18,
      "outputs": []
    },
    {
      "cell_type": "markdown",
      "metadata": {
        "id": "eZ_kSWY3zSO9"
      },
      "source": [
        "Observations:\n",
        " \n",
        "(a) Mean: Here we can see that the mean of correctly classified data is smaller than that of wrongly classified data, because as we have more number of hams, the predicted probablities are close to zero for hams. Complementing to this is the value of spam, i.e. 1.\n",
        "\n",
        "(b) Meadian: The median of correctly classified data is very small due to similar reasons as in point(a), and this is also the expected result beacuse it tells us that the probabilities are very close to zero which is again a good sign considering the ratio of ham:spam.\n",
        "\n",
        "(c) Mode: There is a very less chance that probabilities will repeat considering that probabilities are floating point values and the same is observed"
      ]
    },
    {
      "cell_type": "code",
      "metadata": {
        "colab": {
          "base_uri": "https://localhost:8080/"
        },
        "id": "IKd5tncV38av",
        "outputId": "0ee6f555-5ac0-4d2a-d6bc-621f7afb8c08"
      },
      "source": [
        "#Calculating centrality measures differently for correctly/wrongly classified probabilities\n",
        "mean_cc = statistics.mean(correctly_classified)\n",
        "mean_wc = statistics.mean(wrongly_classified)\n",
        "\n",
        "median_cc = statistics.median(correctly_classified)\n",
        "median_wc = statistics.median(wrongly_classified)\n",
        "\n",
        "mode_cc = statistics.mode(correctly_classified)\n",
        "mode_wc = statistics.mode(wrongly_classified)\n",
        "\n",
        "print('For correctly classified data:\\nMean:',mean_cc,'\\nMedian:',median_cc,'\\nMode:',mode_cc,'\\n')\n",
        "print('For wrongly classified data:\\nMean:',mean_wc,'\\nMedian:',median_wc,'\\nMode:',mode_wc,'\\n')"
      ],
      "execution_count": 19,
      "outputs": [
        {
          "output_type": "stream",
          "name": "stdout",
          "text": [
            "For correctly classified data:\n",
            "Mean: 0.3095959971745004 \n",
            "Median: 9.965732465876965e-21 \n",
            "Mode: 1.0 \n",
            "\n",
            "For wrongly classified data:\n",
            "Mean: 0.8424178826513422 \n",
            "Median: 0.9989054915971156 \n",
            "Mode: 1.0 \n",
            "\n"
          ]
        }
      ]
    },
    {
      "cell_type": "markdown",
      "metadata": {
        "id": "VBzDJIyF1JtD"
      },
      "source": [
        "Observations: \n",
        "\n",
        "(a) Histogram 1: The histogram proves that almost all predicted probabilities are very close to zero and very close to one. There are very less values in between.\n",
        "\n",
        "(b) Histogram 2: Most of the incorrect values here are close to ones which is proved by the confusion matrix, that there are more false positives (13) than false negatives (3)."
      ]
    },
    {
      "cell_type": "code",
      "metadata": {
        "colab": {
          "base_uri": "https://localhost:8080/",
          "height": 494
        },
        "id": "AsRm6HpM8upI",
        "outputId": "f0be085d-457a-46ec-9692-21c2e2f07d7a"
      },
      "source": [
        "#Histogram of correctly classified probabilities\n",
        "plt.hist(correctly_classified)\n",
        "plt.gca().set(title='Frequency Histogram (correctly classified)', ylabel='Frequency')"
      ],
      "execution_count": 20,
      "outputs": [
        {
          "output_type": "execute_result",
          "data": {
            "text/plain": [
              "[Text(0, 0.5, 'Frequency'),\n",
              " Text(0.5, 1.0, 'Frequency Histogram (correctly classified)')]"
            ]
          },
          "metadata": {},
          "execution_count": 20
        },
        {
          "output_type": "display_data",
          "data": {
            "image/png": "[encoded data removed]",
            "text/plain": [
              "<Figure size 700x500 with 1 Axes>"
            ]
          },
          "metadata": {
            "needs_background": "light"
          }
        }
      ]
    },
    {
      "cell_type": "code",
      "metadata": {
        "colab": {
          "base_uri": "https://localhost:8080/",
          "height": 494
        },
        "id": "mA3I9PZs-OkM",
        "outputId": "2f9f145f-acd9-4e6d-8636-48f0a3608e9b"
      },
      "source": [
        "#Histogram of wrongly classified probabilities\n",
        "plt.hist(wrongly_classified)\n",
        "plt.gca().set(title='Frequency Histogram (wrongly classified)', ylabel='Frequency')"
      ],
      "execution_count": 21,
      "outputs": [
        {
          "output_type": "execute_result",
          "data": {
            "text/plain": [
              "[Text(0, 0.5, 'Frequency'),\n",
              " Text(0.5, 1.0, 'Frequency Histogram (wrongly classified)')]"
            ]
          },
          "metadata": {},
          "execution_count": 21
        },
        {
          "output_type": "display_data",
          "data": {
            "image/png": "[encoded data removed]",
            "text/plain": [
              "<Figure size 700x500 with 1 Axes>"
            ]
          },
          "metadata": {
            "needs_background": "light"
          }
        }
      ]
    },
    {
      "cell_type": "markdown",
      "metadata": {
        "id": "7FfBUuO0-TPU"
      },
      "source": [
        "THANK YOU"
      ]
    },
    {
      "cell_type": "code",
      "metadata": {
        "id": "7nGN8vmp0fsS"
      },
      "source": [
        ""
      ],
      "execution_count": 21,
      "outputs": []
    }
  ]
}