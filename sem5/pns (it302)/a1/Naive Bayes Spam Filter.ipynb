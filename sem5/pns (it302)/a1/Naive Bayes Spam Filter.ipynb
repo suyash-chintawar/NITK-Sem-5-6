{
 "cells": [
  {
   "cell_type": "code",
   "execution_count": 82,
   "id": "7fd1266e",
   "metadata": {},
   "outputs": [],
   "source": [
    "import numpy as np\n",
    "import nltk\n",
    "import matplotlib.pyplot as plt\n",
    "import pandas as pd\n",
    "import seaborn as sn\n",
    "from nltk.corpus import stopwords\n",
    "from nltk.tokenize import word_tokenize"
   ]
  },
  {
   "cell_type": "code",
   "execution_count": 222,
   "id": "a97aa579",
   "metadata": {},
   "outputs": [],
   "source": [
    "df = pd.read_csv(\"spam_ham_dataset.csv\")"
   ]
  },
  {
   "cell_type": "code",
   "execution_count": 223,
   "id": "71923205",
   "metadata": {},
   "outputs": [
    {
     "name": "stdout",
     "output_type": "stream",
     "text": [
      "ham     3672\n",
      "spam    1499\n",
      "Name: label, dtype: int64\n"
     ]
    }
   ],
   "source": [
    "print(df[\"label\"].value_counts())"
   ]
  },
  {
   "cell_type": "code",
   "execution_count": 224,
   "id": "5fa0205b",
   "metadata": {},
   "outputs": [],
   "source": [
    "df['processed_text']=df['text']"
   ]
  },
  {
   "cell_type": "code",
   "execution_count": 225,
   "id": "3fe31873",
   "metadata": {},
   "outputs": [
    {
     "data": {
      "text/html": [
       "<div>\n",
       "<style scoped>\n",
       "    .dataframe tbody tr th:only-of-type {\n",
       "        vertical-align: middle;\n",
       "    }\n",
       "\n",
       "    .dataframe tbody tr th {\n",
       "        vertical-align: top;\n",
       "    }\n",
       "\n",
       "    .dataframe thead th {\n",
       "        text-align: right;\n",
       "    }\n",
       "</style>\n",
       "<table border=\"1\" class=\"dataframe\">\n",
       "  <thead>\n",
       "    <tr style=\"text-align: right;\">\n",
       "      <th></th>\n",
       "      <th>Unnamed: 0</th>\n",
       "      <th>label</th>\n",
       "      <th>text</th>\n",
       "      <th>label_num</th>\n",
       "      <th>processed_text</th>\n",
       "    </tr>\n",
       "  </thead>\n",
       "  <tbody>\n",
       "    <tr>\n",
       "      <th>0</th>\n",
       "      <td>605</td>\n",
       "      <td>ham</td>\n",
       "      <td>Subject: enron methanol ; meter # : 988291\\r\\n...</td>\n",
       "      <td>0</td>\n",
       "      <td>Subject: enron methanol ; meter # : 988291\\r\\n...</td>\n",
       "    </tr>\n",
       "    <tr>\n",
       "      <th>1</th>\n",
       "      <td>2349</td>\n",
       "      <td>ham</td>\n",
       "      <td>Subject: hpl nom for january 9 , 2001\\r\\n( see...</td>\n",
       "      <td>0</td>\n",
       "      <td>Subject: hpl nom for january 9 , 2001\\r\\n( see...</td>\n",
       "    </tr>\n",
       "    <tr>\n",
       "      <th>2</th>\n",
       "      <td>3624</td>\n",
       "      <td>ham</td>\n",
       "      <td>Subject: neon retreat\\r\\nho ho ho , we ' re ar...</td>\n",
       "      <td>0</td>\n",
       "      <td>Subject: neon retreat\\r\\nho ho ho , we ' re ar...</td>\n",
       "    </tr>\n",
       "    <tr>\n",
       "      <th>3</th>\n",
       "      <td>4685</td>\n",
       "      <td>spam</td>\n",
       "      <td>Subject: photoshop , windows , office . cheap ...</td>\n",
       "      <td>1</td>\n",
       "      <td>Subject: photoshop , windows , office . cheap ...</td>\n",
       "    </tr>\n",
       "    <tr>\n",
       "      <th>4</th>\n",
       "      <td>2030</td>\n",
       "      <td>ham</td>\n",
       "      <td>Subject: re : indian springs\\r\\nthis deal is t...</td>\n",
       "      <td>0</td>\n",
       "      <td>Subject: re : indian springs\\r\\nthis deal is t...</td>\n",
       "    </tr>\n",
       "    <tr>\n",
       "      <th>5</th>\n",
       "      <td>2949</td>\n",
       "      <td>ham</td>\n",
       "      <td>Subject: ehronline web address change\\r\\nthis ...</td>\n",
       "      <td>0</td>\n",
       "      <td>Subject: ehronline web address change\\r\\nthis ...</td>\n",
       "    </tr>\n",
       "    <tr>\n",
       "      <th>6</th>\n",
       "      <td>2793</td>\n",
       "      <td>ham</td>\n",
       "      <td>Subject: spring savings certificate - take 30 ...</td>\n",
       "      <td>0</td>\n",
       "      <td>Subject: spring savings certificate - take 30 ...</td>\n",
       "    </tr>\n",
       "    <tr>\n",
       "      <th>7</th>\n",
       "      <td>4185</td>\n",
       "      <td>spam</td>\n",
       "      <td>Subject: looking for medication ? we ` re the ...</td>\n",
       "      <td>1</td>\n",
       "      <td>Subject: looking for medication ? we ` re the ...</td>\n",
       "    </tr>\n",
       "    <tr>\n",
       "      <th>8</th>\n",
       "      <td>2641</td>\n",
       "      <td>ham</td>\n",
       "      <td>Subject: noms / actual flow for 2 / 26\\r\\nwe a...</td>\n",
       "      <td>0</td>\n",
       "      <td>Subject: noms / actual flow for 2 / 26\\r\\nwe a...</td>\n",
       "    </tr>\n",
       "    <tr>\n",
       "      <th>9</th>\n",
       "      <td>1870</td>\n",
       "      <td>ham</td>\n",
       "      <td>Subject: nominations for oct . 21 - 23 , 2000\\...</td>\n",
       "      <td>0</td>\n",
       "      <td>Subject: nominations for oct . 21 - 23 , 2000\\...</td>\n",
       "    </tr>\n",
       "  </tbody>\n",
       "</table>\n",
       "</div>"
      ],
      "text/plain": [
       "   Unnamed: 0 label                                               text  \\\n",
       "0         605   ham  Subject: enron methanol ; meter # : 988291\\r\\n...   \n",
       "1        2349   ham  Subject: hpl nom for january 9 , 2001\\r\\n( see...   \n",
       "2        3624   ham  Subject: neon retreat\\r\\nho ho ho , we ' re ar...   \n",
       "3        4685  spam  Subject: photoshop , windows , office . cheap ...   \n",
       "4        2030   ham  Subject: re : indian springs\\r\\nthis deal is t...   \n",
       "5        2949   ham  Subject: ehronline web address change\\r\\nthis ...   \n",
       "6        2793   ham  Subject: spring savings certificate - take 30 ...   \n",
       "7        4185  spam  Subject: looking for medication ? we ` re the ...   \n",
       "8        2641   ham  Subject: noms / actual flow for 2 / 26\\r\\nwe a...   \n",
       "9        1870   ham  Subject: nominations for oct . 21 - 23 , 2000\\...   \n",
       "\n",
       "   label_num                                     processed_text  \n",
       "0          0  Subject: enron methanol ; meter # : 988291\\r\\n...  \n",
       "1          0  Subject: hpl nom for january 9 , 2001\\r\\n( see...  \n",
       "2          0  Subject: neon retreat\\r\\nho ho ho , we ' re ar...  \n",
       "3          1  Subject: photoshop , windows , office . cheap ...  \n",
       "4          0  Subject: re : indian springs\\r\\nthis deal is t...  \n",
       "5          0  Subject: ehronline web address change\\r\\nthis ...  \n",
       "6          0  Subject: spring savings certificate - take 30 ...  \n",
       "7          1  Subject: looking for medication ? we ` re the ...  \n",
       "8          0  Subject: noms / actual flow for 2 / 26\\r\\nwe a...  \n",
       "9          0  Subject: nominations for oct . 21 - 23 , 2000\\...  "
      ]
     },
     "execution_count": 225,
     "metadata": {},
     "output_type": "execute_result"
    }
   ],
   "source": [
    "df.head(10)"
   ]
  },
  {
   "cell_type": "code",
   "execution_count": 226,
   "id": "584caa74",
   "metadata": {},
   "outputs": [],
   "source": [
    "stop_words = set(stopwords.words('english'))"
   ]
  },
  {
   "cell_type": "code",
   "execution_count": 227,
   "id": "4c300ab3",
   "metadata": {},
   "outputs": [],
   "source": [
    "def remove_stopwords(df):\n",
    "    for i in range(len(df)):\n",
    "        df[\"processed_text\"][i] = df[\"processed_text\"][i].lower().split()\n",
    "        filtered_sentence = [w for w in df[\"processed_text\"][i] if not w.lower() in stop_words]\n",
    "        df[\"processed_text\"][i]=' '.join(filtered_sentence)\n",
    "    return df"
   ]
  },
  {
   "cell_type": "code",
   "execution_count": 228,
   "id": "0834ae22",
   "metadata": {},
   "outputs": [],
   "source": [
    "def preprocess(df):\n",
    "    df['processed_text']=df['processed_text'].str[9:]\n",
    "    df=remove_stopwords(df)\n",
    "    df['processed_text']=df['processed_text'].str.replace('[^a-z]+',' ').replace('  ',' ')"
   ]
  },
  {
   "cell_type": "code",
   "execution_count": 229,
   "id": "3fa2bf5a",
   "metadata": {},
   "outputs": [
    {
     "name": "stderr",
     "output_type": "stream",
     "text": [
      "<ipython-input-227-6d00cd145a3f>:3: SettingWithCopyWarning: \n",
      "A value is trying to be set on a copy of a slice from a DataFrame\n",
      "\n",
      "See the caveats in the documentation: https://pandas.pydata.org/pandas-docs/stable/user_guide/indexing.html#returning-a-view-versus-a-copy\n",
      "  df[\"processed_text\"][i] = df[\"processed_text\"][i].lower().split()\n",
      "<ipython-input-227-6d00cd145a3f>:5: SettingWithCopyWarning: \n",
      "A value is trying to be set on a copy of a slice from a DataFrame\n",
      "\n",
      "See the caveats in the documentation: https://pandas.pydata.org/pandas-docs/stable/user_guide/indexing.html#returning-a-view-versus-a-copy\n",
      "  df[\"processed_text\"][i]=' '.join(filtered_sentence)\n",
      "<ipython-input-228-b45d25d1d12c>:4: FutureWarning: The default value of regex will change from True to False in a future version.\n",
      "  df['processed_text']=df['processed_text'].str.replace('[^a-z]+',' ').replace('  ',' ')\n"
     ]
    }
   ],
   "source": [
    "preprocess(df)\n",
    "# df.head(10)"
   ]
  },
  {
   "cell_type": "code",
   "execution_count": 230,
   "id": "9399c9a5",
   "metadata": {},
   "outputs": [
    {
     "name": "stdout",
     "output_type": "stream",
     "text": [
      "enron methanol meter follow note gave monday preliminary flow data provided daren please override pop daily volume presently zero reflect daily activity obtain gas control change needed asap economics purposes  \n",
      "\n",
      "Subject: enron methanol ; meter # : 988291\r\n",
      "this is a follow up to the note i gave you on monday , 4 / 3 / 00 { preliminary\r\n",
      "flow data provided by daren } .\r\n",
      "please override pop ' s daily volume { presently zero } to reflect daily\r\n",
      "activity you can obtain from gas control .\r\n",
      "this change is needed asap for economics purposes . \n",
      "\n"
     ]
    }
   ],
   "source": [
    "print(df['processed_text'][0],'\\n')\n",
    "print(df['text'][0],'\\n')"
   ]
  },
  {
   "cell_type": "code",
   "execution_count": 231,
   "id": "87e0a259",
   "metadata": {},
   "outputs": [
    {
     "name": "stdout",
     "output_type": "stream",
     "text": [
      "ham     71.01141\n",
      "spam    28.98859\n",
      "Name: label, dtype: float64\n",
      "ham     70.72758\n",
      "spam    29.27242\n",
      "Name: label, dtype: float64\n",
      "ham     69.052224\n",
      "spam    30.947776\n",
      "Name: label, dtype: float64\n"
     ]
    }
   ],
   "source": [
    "train_data = df.sample(frac=0.8,random_state=1).reset_index(drop=True)\n",
    "test_data = df.drop(train_data.index).reset_index(drop=True)\n",
    "train_data = train_data.reset_index(drop=True)\n",
    "\n",
    "print(df['label'].value_counts() / df.shape[0] * 100)\n",
    "\n",
    "print(train_data['label'].value_counts() / train_data.shape[0] * 100)\n",
    "\n",
    "print(test_data['label'].value_counts() / test_data.shape[0] * 100)"
   ]
  },
  {
   "cell_type": "code",
   "execution_count": 232,
   "id": "9b8a17cd",
   "metadata": {},
   "outputs": [],
   "source": [
    "alpha=1\n",
    "k=2"
   ]
  },
  {
   "cell_type": "code",
   "execution_count": 233,
   "id": "96e3c163",
   "metadata": {},
   "outputs": [
    {
     "data": {
      "text/plain": [
       "0.2927241962774958"
      ]
     },
     "execution_count": 233,
     "metadata": {},
     "output_type": "execute_result"
    }
   ],
   "source": [
    "p_spam = train_data['label'].value_counts()['spam']/len(train_data)\n",
    "p_spam"
   ]
  },
  {
   "cell_type": "code",
   "execution_count": 234,
   "id": "ba6b4a7b",
   "metadata": {},
   "outputs": [
    {
     "data": {
      "text/plain": [
       "0.7072758037225042"
      ]
     },
     "execution_count": 234,
     "metadata": {},
     "output_type": "execute_result"
    }
   ],
   "source": [
    "p_ham = train_data['label'].value_counts()['ham']/len(train_data)\n",
    "p_ham"
   ]
  },
  {
   "cell_type": "code",
   "execution_count": 235,
   "id": "3c153f07",
   "metadata": {},
   "outputs": [
    {
     "data": {
      "text/plain": [
       "1211"
      ]
     },
     "execution_count": 235,
     "metadata": {},
     "output_type": "execute_result"
    }
   ],
   "source": [
    "n_spam = train_data['label'].value_counts()['spam']\n",
    "n_spam"
   ]
  },
  {
   "cell_type": "code",
   "execution_count": 236,
   "id": "8966620a",
   "metadata": {},
   "outputs": [
    {
     "data": {
      "text/plain": [
       "2926"
      ]
     },
     "execution_count": 236,
     "metadata": {},
     "output_type": "execute_result"
    }
   ],
   "source": [
    "n_ham = train_data['label'].value_counts()['ham']\n",
    "n_ham"
   ]
  },
  {
   "cell_type": "code",
   "execution_count": 237,
   "id": "f6c68cb2",
   "metadata": {},
   "outputs": [],
   "source": [
    "vocabulary = list(set(train_data['processed_text'].str.split().sum()))"
   ]
  },
  {
   "cell_type": "code",
   "execution_count": null,
   "id": "ac129453",
   "metadata": {},
   "outputs": [],
   "source": [
    "word_counts_per_sms = pd.DataFrame([\n",
    "    [row[4].split().count(word) for word in vocabulary]\n",
    "    for _, row in train_data.iterrows()], columns=vocabulary)\n",
    "word_counts_per_sms"
   ]
  },
  {
   "cell_type": "code",
   "execution_count": null,
   "id": "7b155bca",
   "metadata": {},
   "outputs": [],
   "source": []
  }
 ],
 "metadata": {
  "kernelspec": {
   "display_name": "Python 3",
   "language": "python",
   "name": "python3"
  },
  "language_info": {
   "codemirror_mode": {
    "name": "ipython",
    "version": 3
   },
   "file_extension": ".py",
   "mimetype": "text/x-python",
   "name": "python",
   "nbconvert_exporter": "python",
   "pygments_lexer": "ipython3",
   "version": "3.8.8"
  }
 },
 "nbformat": 4,
 "nbformat_minor": 5
}
